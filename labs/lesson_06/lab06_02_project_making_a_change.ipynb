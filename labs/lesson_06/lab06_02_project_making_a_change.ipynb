{
 "cells": [
  {
   "cell_type": "markdown",
   "metadata": {},
   "source": [
    "Copyright (c) Microsoft Corporation. Licensed under the MIT license.\n",
    "\n",
    "##  Automating Everything\n",
    "\n",
    "In this stage, you already have your project configured and will make a change in the flow. \n",
    "\n",
    "To do this, simply follow these steps:\n",
    "\n",
    "1) Create a new feature branch.\n",
    "2) Change something in your flow.\n",
    "3) Create a Pull Request from feature branch to development branch.\n",
    "4) Review and approve the PR for the new feature.\n",
    "5) Check CI pipeline execution.\n",
    "6) Check CD pipeline execution.\n"
   ]
  }
 ],
 "metadata": {
  "kernelspec": {
   "display_name": "workshop",
   "language": "python",
   "name": "python3"
  },
  "language_info": {
   "codemirror_mode": {
    "name": "ipython",
    "version": 3
   },
   "file_extension": ".py",
   "mimetype": "text/x-python",
   "name": "python",
   "nbconvert_exporter": "python",
   "pygments_lexer": "ipython3",
   "version": "3.10.13"
  }
 },
 "nbformat": 4,
 "nbformat_minor": 2
}
